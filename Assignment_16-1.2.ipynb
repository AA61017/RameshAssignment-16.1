{
 "cells": [
  {
   "cell_type": "code",
   "execution_count": 2,
   "metadata": {},
   "outputs": [
    {
     "name": "stdout",
     "output_type": "stream",
     "text": [
      "the standard deviation is 335.92740617910624\n",
      "the variance is 5183.25\n"
     ]
    }
   ],
   "source": [
    "import math\n",
    "\n",
    "# You survey households in your area to find the average rent they are paying. \n",
    "# Find the standard deviation from the following data: $1550, $1700, $900, $850, $1000, $950.\n",
    "\n",
    "rents = [1550.0,1700.0,900.0,850.0,1000.0,950.0]     # values (must be floats!)\n",
    "mean1 = sum(rents) / len(rents)   # mean\n",
    "var1  = sum(pow(x-mean1,2) for x in rents) / len(rents)  # variance\n",
    "std1  = math.sqrt(var1)  # standard deviation\n",
    "print(\"the standard deviation is\", std1)\n",
    "#Find the variance for the following set of data representing trees \n",
    "#in California (heights in feet): 3, 21, 98, 203, 17, 9\n",
    "\n",
    "heights = [3.0, 21.0, 98.0, 203.0, 17.0, 9.0]\n",
    "mean2 = sum(heights) / len(heights)   # mean\n",
    "var2  = sum(pow(x-mean2,2) for x in heights) / len(heights)  # variance\n",
    "std2  = math.sqrt(var2)  # standard deviation\n",
    "print(\"the variance is\", var)\n",
    "\n",
    "# In a class on 100 students, 80 students passed in all subjects, 10 failed in one subject, \n",
    "# 7 failed in two subjects and 3 failed in three subjects. Find the probability distribution of\n",
    "# the variable for number of subjects a student from the given class has failed in.\n"
   ]
  },
  {
   "cell_type": "code",
   "execution_count": null,
   "metadata": {},
   "outputs": [],
   "source": []
  },
  {
   "cell_type": "code",
   "execution_count": null,
   "metadata": {},
   "outputs": [],
   "source": []
  }
 ],
 "metadata": {
  "kernelspec": {
   "display_name": "Python 3",
   "language": "python",
   "name": "python3"
  },
  "language_info": {
   "codemirror_mode": {
    "name": "ipython",
    "version": 3
   },
   "file_extension": ".py",
   "mimetype": "text/x-python",
   "name": "python",
   "nbconvert_exporter": "python",
   "pygments_lexer": "ipython3",
   "version": "3.6.4"
  }
 },
 "nbformat": 4,
 "nbformat_minor": 2
}
