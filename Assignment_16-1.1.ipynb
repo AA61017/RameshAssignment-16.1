{
 "cells": [
  {
   "cell_type": "code",
   "execution_count": 3,
   "metadata": {},
   "outputs": [
    {
     "name": "stdout",
     "output_type": "stream",
     "text": [
      "the standard deviation is 335.92740617910624\n"
     ]
    }
   ],
   "source": [
    "import math\n",
    "\n",
    "# You survey households in your area to find the average rent they are paying. \n",
    "# Find the standard deviation from the following data: $1550, $1700, $900, $850, $1000, $950.\n",
    "\n",
    "rents = [1550.0,1700.0,900.0,850.0,1000.0,950.0]     # values (must be floats!)\n",
    "mean1 = sum(rents) / len(rents)   # mean\n",
    "var1  = sum(pow(x-mean1,2) for x in rents) / len(rents)  # variance\n",
    "std1  = math.sqrt(var1)  # standard deviation\n",
    "print(\"the standard deviation is\", std1)\n",
    "\n"
   ]
  },
  {
   "cell_type": "code",
   "execution_count": null,
   "metadata": {},
   "outputs": [],
   "source": []
  },
  {
   "cell_type": "code",
   "execution_count": null,
   "metadata": {},
   "outputs": [],
   "source": []
  }
 ],
 "metadata": {
  "kernelspec": {
   "display_name": "Python 3",
   "language": "python",
   "name": "python3"
  },
  "language_info": {
   "codemirror_mode": {
    "name": "ipython",
    "version": 3
   },
   "file_extension": ".py",
   "mimetype": "text/x-python",
   "name": "python",
   "nbconvert_exporter": "python",
   "pygments_lexer": "ipython3",
   "version": "3.6.4"
  }
 },
 "nbformat": 4,
 "nbformat_minor": 2
}
